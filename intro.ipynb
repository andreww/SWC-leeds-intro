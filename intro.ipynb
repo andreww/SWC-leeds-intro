{
 "metadata": {
  "name": "",
  "signature": "sha256:4176c57abe0f18c03fbfc7d48fff93d2828fd1d7c7c025a0f42b783421d4d3d0"
 },
 "nbformat": 3,
 "nbformat_minor": 0,
 "worksheets": [
  {
   "cells": [
    {
     "cell_type": "markdown",
     "metadata": {},
     "source": [
      "<image src='nerc-logo.png'/>"
     ]
    },
    {
     "cell_type": "code",
     "collapsed": false,
     "input": [],
     "language": "python",
     "metadata": {},
     "outputs": []
    },
    {
     "cell_type": "markdown",
     "metadata": {},
     "source": [
      "<img src='homehead-logo.gif'/>\n",
      "\n",
      "* Exits via the way you came in\n",
      "* Bathrooms are in the opposite direction\n",
      "* Coffee, tea and lunch are provided"
     ]
    },
    {
     "cell_type": "markdown",
     "metadata": {},
     "source": [
      "<img src='software-carpentry-banner.png'/>\n",
      "\n",
      "* Abide by the [code of conduct](http://software-carpentry.org/conduct.html)\n",
      "* Material is [online](http://software-carpentry.org) and can be found on the workshop webpage\n",
      "* We will collect feedback during and after the workshop"
     ]
    },
    {
     "cell_type": "markdown",
     "metadata": {},
     "source": [
      "<img src='nerc-logo.png'/>\n",
      "\n",
      "* Those with agreed support for travel and subsistence should have an evelope and claim form\n",
      "* We will report numbers and subject breakdown to the training advisory group\n",
      "* We have an application in the system to do this again next year"
     ]
    },
    {
     "cell_type": "code",
     "collapsed": false,
     "input": [],
     "language": "python",
     "metadata": {},
     "outputs": []
    }
   ],
   "metadata": {}
  }
 ]
}