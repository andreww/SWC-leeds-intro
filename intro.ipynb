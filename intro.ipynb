{
 "metadata": {
  "name": "",
  "signature": "sha256:72fae79a18194f34a65035af79db0f2f248f878438f0f6c099f89d8b6eaaea2b"
 },
 "nbformat": 3,
 "nbformat_minor": 0,
 "worksheets": [
  {
   "cells": [
    {
     "cell_type": "markdown",
     "metadata": {},
     "source": [
      "<image src='nerc-logo.png'/>"
     ]
    },
    {
     "cell_type": "code",
     "collapsed": false,
     "input": [],
     "language": "python",
     "metadata": {},
     "outputs": []
    },
    {
     "cell_type": "heading",
     "level": 1,
     "metadata": {},
     "source": [
      "Housekeeping"
     ]
    },
    {
     "cell_type": "markdown",
     "metadata": {},
     "source": [
      "<img src='homehead-logo.gif'/>\n",
      "\n",
      "* Exits via the way you came in\n",
      "* Bathrooms are in the opposite direction\n",
      "* Coffee, tea and lunch are provided"
     ]
    },
    {
     "cell_type": "markdown",
     "metadata": {},
     "source": [
      "<img src='software-carpentry-banner.png'/>\n",
      "\n",
      "* Abide by the [code of conduct](http://software-carpentry.org/conduct.html)\n",
      "* Material is [online](http://software-carpentry.org) and can be found on the workshop webpage\n",
      "* We will collect feedback during and after the workshop"
     ]
    },
    {
     "cell_type": "markdown",
     "metadata": {},
     "source": [
      "<img src='nerc-logo.png'/>\n",
      "\n",
      "* Those with agreed support for travel and subsistence should have an evelope and claim form\n",
      "* We will report numbers and subject breakdown to the training advisory group\n",
      "* We have an application in the system to do this again next year"
     ]
    },
    {
     "cell_type": "heading",
     "level": 1,
     "metadata": {},
     "source": [
      "Aims"
     ]
    },
    {
     "cell_type": "markdown",
     "metadata": {},
     "source": [
      "<img src='phd031214s.gif'/>\n",
      "\n",
      "You will:\n",
      "\n",
      "* Be able to do more science in less time by making best use of computers and by reusing your code\n",
      "* Think about how to be sure your software works well\n",
      "* Learn to use tools and methods that allow you to work with others when building software\n"
     ]
    },
    {
     "cell_type": "code",
     "collapsed": false,
     "input": [],
     "language": "python",
     "metadata": {},
     "outputs": []
    }
   ],
   "metadata": {}
  }
 ]
}